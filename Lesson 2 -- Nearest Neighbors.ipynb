{
 "cells": [
  {
   "cell_type": "code",
   "execution_count": null,
   "metadata": {
    "collapsed": true
   },
   "outputs": [],
   "source": [
    "# Magic! (don't worry about this)\n",
    "%load_ext autoreload\n",
    "%autoreload 2"
   ]
  },
  {
   "cell_type": "code",
   "execution_count": null,
   "metadata": {
    "collapsed": true
   },
   "outputs": [],
   "source": [
    "# Let use use some useful things. See lib.py for the source code.\n",
    "from lib import *"
   ]
  },
  {
   "cell_type": "code",
   "execution_count": null,
   "metadata": {
    "collapsed": true
   },
   "outputs": [],
   "source": [
    "# load the data\n",
    "data_store = Data()\n",
    "train = data_store.get_train()"
   ]
  },
  {
   "cell_type": "code",
   "execution_count": null,
   "metadata": {
    "collapsed": true
   },
   "outputs": [],
   "source": [
    "class KNearestNeighbors:\n",
    "    \n",
    "    def train(self, data):\n",
    "        self.train = data\n",
    "        \n",
    "    def classify(self, data, k, distance_metric):\n",
    "        labelled = []\n",
    "        for d in data:\n",
    "            labelled.append((d, self.classify_point(d, k, distance_metric)))\n",
    "        return labelled\n",
    "        \n",
    "    def classify_point(self, test_point, k, distance_metric):\n",
    "        # find the k nearest neighbors\n",
    "        distances = []\n",
    "        for train_point in self.train:\n",
    "            distance = distance_metric(test_point, train_point)\n",
    "            distances.append((distance, train_point))\n",
    "        distances.sort()\n",
    "        closest = distances[:k]\n",
    "        # take a majority vote\n",
    "        votes = {}\n",
    "        for close in closest:\n",
    "            label = close[1].get_label()\n",
    "            if not label in votes:\n",
    "                votes[label] = 0\n",
    "            votes[label] += 1\n",
    "        # choose the label with the most votes\n",
    "        max_votes = 0\n",
    "        max_label = 0\n",
    "        for v in votes:\n",
    "            if votes[v] > max_votes:\n",
    "                max_label = v\n",
    "                max_votes = votes[v]\n",
    "        return max_label"
   ]
  },
  {
   "cell_type": "code",
   "execution_count": null,
   "metadata": {
    "collapsed": true
   },
   "outputs": [],
   "source": [
    "import math\n",
    "def euclideanDistance(s1, s2):\n",
    "    distance = 0\n",
    "    m1 = s1.get_microarray()\n",
    "    m2 = s2.get_microarray()\n",
    "    for i in range(len(m1)):\n",
    "        distance += pow((m1[i] - m2[1]), 2)\n",
    "    return math.sqrt(distance)"
   ]
  },
  {
   "cell_type": "code",
   "execution_count": null,
   "metadata": {
    "collapsed": false
   },
   "outputs": [],
   "source": [
    "knn = KNearestNeighbors()\n",
    "knn.train(train)\n",
    "\n",
    "labelled = knn.classify(data_store.get_test(), 3, euclideanDistance)"
   ]
  },
  {
   "cell_type": "code",
   "execution_count": null,
   "metadata": {
    "collapsed": false
   },
   "outputs": [],
   "source": [
    "print labelled"
   ]
  },
  {
   "cell_type": "code",
   "execution_count": null,
   "metadata": {
    "collapsed": false
   },
   "outputs": [],
   "source": [
    "analyze_results(labelled)"
   ]
  },
  {
   "cell_type": "code",
   "execution_count": null,
   "metadata": {
    "collapsed": true
   },
   "outputs": [],
   "source": []
  }
 ],
 "metadata": {
  "kernelspec": {
   "display_name": "Python 2",
   "language": "python",
   "name": "python2"
  },
  "language_info": {
   "codemirror_mode": {
    "name": "ipython",
    "version": 2
   },
   "file_extension": ".py",
   "mimetype": "text/x-python",
   "name": "python",
   "nbconvert_exporter": "python",
   "pygments_lexer": "ipython2",
   "version": "2.7.10"
  }
 },
 "nbformat": 4,
 "nbformat_minor": 0
}

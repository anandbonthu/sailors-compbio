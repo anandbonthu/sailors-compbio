{
 "cells": [
  {
   "cell_type": "code",
   "execution_count": null,
   "metadata": {
    "collapsed": false
   },
   "outputs": [],
   "source": [
    "# magic! (don't worry about this)\n",
    "%load_ext autoreload\n",
    "%autoreload 2\n",
    "%matplotlib inline"
   ]
  },
  {
   "cell_type": "code",
   "execution_count": null,
   "metadata": {
    "collapsed": true
   },
   "outputs": [],
   "source": [
    "# let us import some useful things\n",
    "from lib import *\n",
    "from classifiers import *\n",
    "from graphs import *\n",
    "from sklearn import tree\n"
   ]
  },
  {
   "cell_type": "code",
   "execution_count": null,
   "metadata": {
    "collapsed": true
   },
   "outputs": [],
   "source": [
    "# load the data same as before\n",
    "microarray_file_name = '../data/leukemia_ALL_AML_matrix.txt'\n",
    "labels_file_name = '../data/leukemia_ALL_AML_labels.txt'\n",
    "data_store = DataSet(microarray_file_name, labels_file_name)"
   ]
  },
  {
   "cell_type": "code",
   "execution_count": null,
   "metadata": {
    "collapsed": true
   },
   "outputs": [],
   "source": [
    "# This train function is *almost* the same as the train method that \n",
    "# your knn classifier. The difference is that this is a function that\n",
    "# takes as one of the parameters the decision tree, so it will be called\n",
    "# like: train(decision_tree, train_samples)\n",
    "def train(decision_tree, train_samples):\n",
    "    feature_array = [sample.get_gene_profile() for sample in train_samples]\n",
    "    labels = [sample.get_label() for sample in train_samples]\n",
    "    decision_tree.fit(feature_array, labels)\n",
    "\n",
    "def classify(decision_tree, test_samples):\n",
    "    labelled_samples = []\n",
    "    feature_array = [sample.get_gene_profile() for sample in test_samples]\n",
    "    results = decision_tree.predict(feature_array)\n",
    "    labelled_samples = [(test_samples[i], results[i]) for i in range(len(test_samples))]\n",
    "    return labelled_samples\n"
   ]
  },
  {
   "cell_type": "code",
   "execution_count": null,
   "metadata": {
    "collapsed": false
   },
   "outputs": [],
   "source": [
    "# Here, you can set criterion = \"entropy\" or \"gini\", which will determine\n",
    "# what equation the decision tree will use to measure the quality of a split\n",
    "#\n",
    "# You can set max_features=None, \"sqrt\", or \"log2\", which will determine how many\n",
    "# features the decision tree will use. Setting it to None will use all the features,\n",
    "# sqrt will use sqrt(number of features) and log2 will use log2(number of features)\n",
    "#\n",
    "# Play around! What settings are best? Do they change for the different data sets?\n",
    "decision_tree = tree.DecisionTreeClassifier(criterion=\"entropy\", max_features=None)\n",
    "train(decision_tree, data_store.get_train_set())\n",
    "\n",
    "classified_samples = classify(decision_tree, data_store.get_test_set())\n",
    "# let's evaluate how well the classifier worked\n",
    "evaluate_results(classified_samples)"
   ]
  },
  {
   "cell_type": "code",
   "execution_count": null,
   "metadata": {
    "collapsed": false
   },
   "outputs": [],
   "source": [
    "plot_errors(classified_samples)"
   ]
  },
  {
   "cell_type": "code",
   "execution_count": null,
   "metadata": {
    "collapsed": true
   },
   "outputs": [],
   "source": []
  }
 ],
 "metadata": {
  "kernelspec": {
   "display_name": "Python 2",
   "language": "python",
   "name": "python2"
  },
  "language_info": {
   "codemirror_mode": {
    "name": "ipython",
    "version": 2
   },
   "file_extension": ".py",
   "mimetype": "text/x-python",
   "name": "python",
   "nbconvert_exporter": "python",
   "pygments_lexer": "ipython2",
   "version": "2.7.10"
  }
 },
 "nbformat": 4,
 "nbformat_minor": 0
}

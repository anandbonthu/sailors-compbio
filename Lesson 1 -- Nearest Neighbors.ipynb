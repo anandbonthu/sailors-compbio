{
 "cells": [
  {
   "cell_type": "code",
   "execution_count": 48,
   "metadata": {
    "collapsed": false
   },
   "outputs": [
    {
     "name": "stdout",
     "output_type": "stream",
     "text": [
      "The autoreload extension is already loaded. To reload it, use:\n",
      "  %reload_ext autoreload\n"
     ]
    }
   ],
   "source": [
    "# magic! (don't worry about this)\n",
    "%load_ext autoreload\n",
    "%autoreload 2"
   ]
  },
  {
   "cell_type": "code",
   "execution_count": 71,
   "metadata": {
    "collapsed": false
   },
   "outputs": [],
   "source": [
    "# let us import some useful things\n",
    "from lib import *\n",
    "from classifiers import *\n",
    "import math"
   ]
  },
  {
   "cell_type": "code",
   "execution_count": 72,
   "metadata": {
    "collapsed": false
   },
   "outputs": [],
   "source": [
    "# load the data same as before\n",
    "microarray_file_name = 'data/leukemia_ALL_AML_matrix.txt'\n",
    "labels_file_name = 'data/leukemia_ALL_AML_labels.txt'\n",
    "data_store = DataSet(microarray_file_name, labels_file_name)"
   ]
  },
  {
   "cell_type": "code",
   "execution_count": 74,
   "metadata": {
    "collapsed": false
   },
   "outputs": [
    {
     "name": "stdout",
     "output_type": "stream",
     "text": [
      "Accuracy: 84.00%\n"
     ]
    }
   ],
   "source": [
    "# instantiate the kNN classifier\n",
    "k = 3\n",
    "knn = KNearestNeighbors()\n",
    "knn.train(data_store.get_train_set()) # provide training samples\n",
    "classified_samples = knn.classify(data_store.get_test_set(), k, euclidean_distance)\n",
    "\n",
    "# let's evaluate how well the classifier worked\n",
    "evaluate_results(classified_samples)"
   ]
  },
  {
   "cell_type": "code",
   "execution_count": 59,
   "metadata": {
    "collapsed": false
   },
   "outputs": [],
   "source": [
    "# TODO: modify the code above to evaluate the classifier with different values of k (1 to 10)"
   ]
  },
  {
   "cell_type": "code",
   "execution_count": null,
   "metadata": {
    "collapsed": true
   },
   "outputs": [],
   "source": [
    "# now let's start writing the kNN classifier code in the classifiers_skeleton.py file\n",
    "\n",
    "# TODO: change the import statement above to import classifiers_skeleton instead\n",
    " \n",
    "# TODO: take a look at the evaluate_results function (this is implemented for you)\n",
    "# can you figure out what is the type of the input argument classified_samples?\n",
    "# what happens in the first line of this function? how about the third line?\n",
    "\n",
    "# what happens when you run the skeleton code? what is the accuracy of this partially-implemented classifier? why? \n",
    "\n",
    "# TODO: fill in each TODO section in the file!\n",
    "\n",
    "# congratulations, you have now implemented a kNN classifier!"
   ]
  }
 ],
 "metadata": {
  "kernelspec": {
   "display_name": "Python 2",
   "language": "python",
   "name": "python2"
  },
  "language_info": {
   "codemirror_mode": {
    "name": "ipython",
    "version": 2
   },
   "file_extension": ".py",
   "mimetype": "text/x-python",
   "name": "python",
   "nbconvert_exporter": "python",
   "pygments_lexer": "ipython2",
   "version": "2.7.5"
  }
 },
 "nbformat": 4,
 "nbformat_minor": 0
}

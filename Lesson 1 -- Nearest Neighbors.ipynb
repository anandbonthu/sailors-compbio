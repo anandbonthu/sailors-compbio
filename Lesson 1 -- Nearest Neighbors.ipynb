{
 "cells": [
  {
   "cell_type": "code",
   "execution_count": 9,
   "metadata": {
    "collapsed": false
   },
   "outputs": [
    {
     "name": "stdout",
     "output_type": "stream",
     "text": [
      "The autoreload extension is already loaded. To reload it, use:\n",
      "  %reload_ext autoreload\n"
     ]
    }
   ],
   "source": [
    "# Magic! (don't worry about this)\n",
    "%load_ext autoreload\n",
    "%autoreload 2"
   ]
  },
  {
   "cell_type": "code",
   "execution_count": 47,
   "metadata": {
    "collapsed": true
   },
   "outputs": [],
   "source": [
    "# Let use use some useful things. See lib.py for the source code.\n",
    "from lib import *\n",
    "import math\n",
    "import numpy as np"
   ]
  },
  {
   "cell_type": "code",
   "execution_count": 48,
   "metadata": {
    "collapsed": true
   },
   "outputs": [],
   "source": [
    "# load the data\n",
    "data_store = Data()\n",
    "train = data_store.get_train()"
   ]
  },
  {
   "cell_type": "code",
   "execution_count": 53,
   "metadata": {
    "collapsed": true
   },
   "outputs": [],
   "source": [
    "class KNearestNeighbors:\n",
    "    \n",
    "    def train(self, data):\n",
    "        self.train = data\n",
    "        \n",
    "    def classify(self, data, k, distance_metric):\n",
    "        labelled = []\n",
    "        for d in data:\n",
    "            guess = self.classify_point(d, k, distance_metric)\n",
    "            labelled.append((d, guess))\n",
    "            if guess == -100:\n",
    "                print 'nanness!'\n",
    "                break\n",
    "        return labelled\n",
    "        \n",
    "    def classify_point(self, test_point, k, distance_metric):\n",
    "        # find the k nearest neighbors\n",
    "        distances = []\n",
    "        for train_point in self.train:\n",
    "            distance = distance_metric(test_point, train_point)\n",
    "            distances.append((distance, train_point))\n",
    "            if math.isnan(distance):\n",
    "                return -100\n",
    "        distances.sort()\n",
    "        closest = distances[:k]\n",
    "        # take a majority vote\n",
    "        votes = {}\n",
    "        for close in closest:\n",
    "            label = close[1].get_label()\n",
    "            if not label in votes:\n",
    "                votes[label] = 0\n",
    "            votes[label] += 1\n",
    "        # choose the label with the most votes\n",
    "        max_votes = 0\n",
    "        max_label = 0\n",
    "        for v in votes:\n",
    "            if votes[v] > max_votes:\n",
    "                max_label = v\n",
    "                max_votes = votes[v]\n",
    "        return max_label"
   ]
  },
  {
   "cell_type": "code",
   "execution_count": 67,
   "metadata": {
    "collapsed": true
   },
   "outputs": [],
   "source": [
    "def euclidean_distance(s1, s2):\n",
    "    distance = float(0)\n",
    "    m1 = s1.get_microarray()\n",
    "    m2 = s2.get_microarray()\n",
    "    for i in range(len(m1)):\n",
    "        distance += float(pow((m1[i] - m2[i]), 2))\n",
    "    return math.sqrt(distance)\n",
    "\n",
    "def euclidean_efficient(s1, s2):\n",
    "    m1 = np.array(s1.get_microarray())\n",
    "    m2 = np.array(s2.get_microarray())\n",
    "    return np.linalg.norm(np.asarray(m1, dtype=np.float64) - np.asarray(m2, dtype=np.float64))\n",
    "    "
   ]
  },
  {
   "cell_type": "code",
   "execution_count": 71,
   "metadata": {
    "collapsed": false
   },
   "outputs": [],
   "source": [
    "knn = KNearestNeighbors()\n",
    "knn.train(train)\n",
    "\n",
    "labelled = knn.classify(data_store.get_test(), 3, euclidean_efficient)"
   ]
  },
  {
   "cell_type": "code",
   "execution_count": 72,
   "metadata": {
    "collapsed": false
   },
   "outputs": [],
   "source": [
    "#print labelled"
   ]
  },
  {
   "cell_type": "code",
   "execution_count": 73,
   "metadata": {
    "collapsed": false
   },
   "outputs": [
    {
     "name": "stdout",
     "output_type": "stream",
     "text": [
      "Accuracy: 62.07%\n"
     ]
    }
   ],
   "source": [
    "analyze_results(labelled)"
   ]
  },
  {
   "cell_type": "code",
   "execution_count": 58,
   "metadata": {
    "collapsed": false
   },
   "outputs": [],
   "source": [
    "from sklearn.neighbors import KNeighborsClassifier\n",
    "clf = KNeighborsClassifier(n_neighbors=3)\n",
    "train_matrix = []\n",
    "train_labels = []\n",
    "for s in train:\n",
    "    train_matrix.append(s.get_microarray())\n",
    "    train_labels.append(s.get_label())\n",
    "clf.fit(train_matrix, train_labels)\n",
    "\n",
    "def classify(clf, points):\n",
    "    labelled = []\n",
    "    for p in points:\n",
    "        label = clf.predict(p.get_microarray())[0]\n",
    "        labelled.append((p, label))\n",
    "    return labelled"
   ]
  },
  {
   "cell_type": "code",
   "execution_count": 59,
   "metadata": {
    "collapsed": false
   },
   "outputs": [
    {
     "name": "stdout",
     "output_type": "stream",
     "text": [
      "Accuracy: 62.07%\n"
     ]
    }
   ],
   "source": [
    "clf_labelled = classify(clf, data_store.get_test())\n",
    "analyze_results(clf_labelled)"
   ]
  },
  {
   "cell_type": "code",
   "execution_count": null,
   "metadata": {
    "collapsed": true
   },
   "outputs": [],
   "source": []
  }
 ],
 "metadata": {
  "kernelspec": {
   "display_name": "Python 2",
   "language": "python",
   "name": "python2"
  },
  "language_info": {
   "codemirror_mode": {
    "name": "ipython",
    "version": 2
   },
   "file_extension": ".py",
   "mimetype": "text/x-python",
   "name": "python",
   "nbconvert_exporter": "python",
   "pygments_lexer": "ipython2",
   "version": "2.7.10"
  }
 },
 "nbformat": 4,
 "nbformat_minor": 0
}

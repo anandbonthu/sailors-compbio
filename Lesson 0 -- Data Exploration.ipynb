{
 "cells": [
  {
   "cell_type": "code",
   "execution_count": null,
   "metadata": {
    "collapsed": false
   },
   "outputs": [],
   "source": [
    "# Magic! (don't worry about this)\n",
    "%load_ext autoreload\n",
    "%autoreload 2"
   ]
  },
  {
   "cell_type": "code",
   "execution_count": null,
   "metadata": {
    "collapsed": true
   },
   "outputs": [],
   "source": [
    "# Let use use some useful things. See lib.py for the source code.\n",
    "from lib import *"
   ]
  },
  {
   "cell_type": "code",
   "execution_count": null,
   "metadata": {
    "collapsed": true
   },
   "outputs": [],
   "source": [
    "# first, go look in the folder 'sailors-compbio/data'!\n",
    "# Here, you'll find the files 'Renal_cell_carcinoma_matrix.txt' and 'Renal_cell_carcinoma_label-11.txt'\n",
    "# This is our data!\n",
    "# We have one file that contains the microarray data and one that contains the labels for each sample."
   ]
  },
  {
   "cell_type": "code",
   "execution_count": null,
   "metadata": {
    "collapsed": true
   },
   "outputs": [],
   "source": [
    "# Load the data into our Data object.\n",
    "# This object makes it so we don't need to reload files\n",
    "# when we want to access different parts of the data\n",
    "#\n",
    "# the Data object has the following methods:\n",
    "#\n",
    "# get_train() -- returns a list of Sample objects that make up our training data\n",
    "# get_test() -- returns a list of Sample objects that make up our testing data\n",
    "data_store = Data()"
   ]
  },
  {
   "cell_type": "code",
   "execution_count": null,
   "metadata": {
    "collapsed": true
   },
   "outputs": [],
   "source": [
    "# Try getting data out of the data store!\n",
    "# how many samples are there in the train set? how about the test set?"
   ]
  },
  {
   "cell_type": "code",
   "execution_count": null,
   "metadata": {
    "collapsed": true
   },
   "outputs": [],
   "source": [
    "# Let's take a look at one of our samples. \n",
    "# We'll look in the training set (because that's good data ettiquette!)\n",
    "# and select one Sample to take a look at.\n",
    "#\n",
    "# the Sample object has the following methods:\n",
    "#\n",
    "# get_label() -- returns an int that is the label of this sample\n",
    "# get_microarray() -- returns the list of ints taht is the micro array data\n"
   ]
  },
  {
   "cell_type": "code",
   "execution_count": null,
   "metadata": {
    "collapsed": true
   },
   "outputs": [],
   "source": []
  }
 ],
 "metadata": {
  "kernelspec": {
   "display_name": "Python 2",
   "language": "python",
   "name": "python2"
  },
  "language_info": {
   "codemirror_mode": {
    "name": "ipython",
    "version": 2
   },
   "file_extension": ".py",
   "mimetype": "text/x-python",
   "name": "python",
   "nbconvert_exporter": "python",
   "pygments_lexer": "ipython2",
   "version": "2.7.10"
  }
 },
 "nbformat": 4,
 "nbformat_minor": 0
}

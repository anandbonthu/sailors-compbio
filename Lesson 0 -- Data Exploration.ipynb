{
 "cells": [
  {
   "cell_type": "code",
   "execution_count": 1,
   "metadata": {
    "collapsed": false
   },
   "outputs": [],
   "source": [
    "# Magic! (don't worry about this)\n",
    "%load_ext autoreload\n",
    "%autoreload 2"
   ]
  },
  {
   "cell_type": "code",
   "execution_count": 9,
   "metadata": {
    "collapsed": true
   },
   "outputs": [],
   "source": [
    "# Let us use some useful things. See lib.py for the source code.\n",
    "from lib import *"
   ]
  },
  {
   "cell_type": "code",
   "execution_count": 3,
   "metadata": {
    "collapsed": true
   },
   "outputs": [],
   "source": [
    "# First, go look in the folder 'sailors-compbio/data'!\n",
    "# Here, you'll find e.g. the files 'leukemia_ALL_AML_matrix.txt' and 'leukemia_ALL_AML_labels.txt'\n",
    "# This is one of our datasets!\n",
    "# We have one file that contains the microarray data and one that contains the labels for each dataset."
   ]
  },
  {
   "cell_type": "code",
   "execution_count": 10,
   "metadata": {
    "collapsed": false
   },
   "outputs": [],
   "source": [
    "# Load the data into our DataSet object.\n",
    "# This object makes it so we don't need to reload files\n",
    "# when we want to access different parts of the data\n",
    "#\n",
    "# the DataSet object has the following methods:\n",
    "#\n",
    "# get_train_set() -- returns a list of Sample objects that make up our training data\n",
    "# get_test_set() -- returns a list of Sample objects that make up our testing data\n",
    "microarray_file_name = 'data/leukemia_ALL_AML_matrix.txt'\n",
    "labels_file_name = 'data/leukemia_ALL_AML_labels.txt'\n",
    "data_store = DataSet(microarray_file_name, labels_file_name)"
   ]
  },
  {
   "cell_type": "code",
   "execution_count": 5,
   "metadata": {
    "collapsed": true
   },
   "outputs": [],
   "source": [
    "# Try getting data out of the data store!\n",
    "# how many samples are there in the train set? how about the test set?"
   ]
  },
  {
   "cell_type": "code",
   "execution_count": 7,
   "metadata": {
    "collapsed": true
   },
   "outputs": [],
   "source": [
    "# Let's take a look at one of our samples. \n",
    "# We'll look in the training set (because that's good data ettiquette!)\n",
    "# and select one Sample to take a look at.\n",
    "#\n",
    "# the Sample object has the following methods:\n",
    "#\n",
    "# get_label() -- returns an integer representing the class label (i.e tissue type) of this sample\n",
    "# get_gene_profile() -- returns a list of numbers that represent the gene expression profile\n"
   ]
  },
  {
   "cell_type": "code",
   "execution_count": null,
   "metadata": {
    "collapsed": true
   },
   "outputs": [],
   "source": []
  },
  {
   "cell_type": "code",
   "execution_count": null,
   "metadata": {
    "collapsed": true
   },
   "outputs": [],
   "source": []
  }
 ],
 "metadata": {
  "kernelspec": {
   "display_name": "Python 2",
   "language": "python",
   "name": "python2"
  },
  "language_info": {
   "codemirror_mode": {
    "name": "ipython",
    "version": 2
   },
   "file_extension": ".py",
   "mimetype": "text/x-python",
   "name": "python",
   "nbconvert_exporter": "python",
   "pygments_lexer": "ipython2",
   "version": "2.7.5"
  }
 },
 "nbformat": 4,
 "nbformat_minor": 0
}

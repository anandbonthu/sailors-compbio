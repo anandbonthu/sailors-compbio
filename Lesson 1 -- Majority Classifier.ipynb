{
 "cells": [
  {
   "cell_type": "code",
   "execution_count": 1,
   "metadata": {
    "collapsed": false
   },
   "outputs": [],
   "source": [
    "# Magic! (don't worry about this)\n",
    "%load_ext autoreload\n",
    "%autoreload 2"
   ]
  },
  {
   "cell_type": "code",
   "execution_count": 20,
   "metadata": {
    "collapsed": false
   },
   "outputs": [],
   "source": [
    "# Let use use some useful things. See lib.py for the source code.\n",
    "from lib import *"
   ]
  },
  {
   "cell_type": "code",
   "execution_count": 21,
   "metadata": {
    "collapsed": false
   },
   "outputs": [],
   "source": [
    "# load the data\n",
    "d = Data()\n",
    "train = d.get_train()\n"
   ]
  },
  {
   "cell_type": "code",
   "execution_count": 23,
   "metadata": {
    "collapsed": false
   },
   "outputs": [
    {
     "name": "stdout",
     "output_type": "stream",
     "text": [
      "112\n",
      "36864\n"
     ]
    }
   ],
   "source": [
    "# explore the data a bit\n",
    "print len(train)\n",
    "for s in train:\n",
    "    print len(s.attr)\n",
    "    break\n"
   ]
  },
  {
   "cell_type": "code",
   "execution_count": 24,
   "metadata": {
    "collapsed": false
   },
   "outputs": [],
   "source": [
    "# Let's build a majority classifier\n",
    "class MajorityClassifier:\n",
    "    \n",
    "    def train(self, data):\n",
    "        self.counts = collections.Counter()\n",
    "        for d in data:\n",
    "            self.counts[d.label] += 1\n",
    "        # get the label that was seen most often\n",
    "        self.majority = self.counts.most_common()[0][0]\n",
    "            \n",
    "    def classify(self, data):\n",
    "        labelled = []\n",
    "        for d in data:\n",
    "            labelled.append((d, self.majority))\n",
    "        return labelled\n",
    "        \n",
    "    def print_stats(self):\n",
    "        total = sum(self.counts.values())\n",
    "        if total == 0:\n",
    "            print 'This classifier hasn\\'t been trained yet'\n",
    "        else:\n",
    "            for label in self.counts:\n",
    "                percent = (self.counts[label] * 100.0) / total\n",
    "                print 'I saw label \"%s\" %i times (%.2f%%)' % (label, self.counts[label], percent)\n",
    "            "
   ]
  },
  {
   "cell_type": "code",
   "execution_count": 26,
   "metadata": {
    "collapsed": false
   },
   "outputs": [
    {
     "name": "stdout",
     "output_type": "stream",
     "text": [
      "I saw label \"1\" 52 times (46.43%)\n",
      "I saw label \"-1\" 60 times (53.57%)\n"
     ]
    }
   ],
   "source": [
    "mj = MajorityClassifier()\n",
    "mj.train(train)\n",
    "mj.print_stats()"
   ]
  },
  {
   "cell_type": "code",
   "execution_count": 27,
   "metadata": {
    "collapsed": false
   },
   "outputs": [],
   "source": [
    "labelled = mj.classify(d.get_test())"
   ]
  },
  {
   "cell_type": "code",
   "execution_count": 28,
   "metadata": {
    "collapsed": false
   },
   "outputs": [
    {
     "name": "stdout",
     "output_type": "stream",
     "text": [
      "Accuracy: 50.00%\n"
     ]
    }
   ],
   "source": [
    "analyze_results(labelled)"
   ]
  },
  {
   "cell_type": "code",
   "execution_count": null,
   "metadata": {
    "collapsed": true
   },
   "outputs": [],
   "source": []
  }
 ],
 "metadata": {
  "kernelspec": {
   "display_name": "Python 2",
   "language": "python",
   "name": "python2"
  },
  "language_info": {
   "codemirror_mode": {
    "name": "ipython",
    "version": 2
   },
   "file_extension": ".py",
   "mimetype": "text/x-python",
   "name": "python",
   "nbconvert_exporter": "python",
   "pygments_lexer": "ipython2",
   "version": "2.7.10"
  }
 },
 "nbformat": 4,
 "nbformat_minor": 0
}
